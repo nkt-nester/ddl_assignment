{
 "cells": [
  {
   "cell_type": "code",
   "execution_count": 245,
   "id": "2745f5f2",
   "metadata": {},
   "outputs": [],
   "source": [
    "import pandas as pd\n",
    "import numpy as np\n",
    "import matplotlib.pyplot as plt\n",
    "import seaborn as sns\n",
    "from sklearn.cluster import (KMeans, DBSCAN)\n",
    "from sklearn.feature_extraction.text import (CountVectorizer, TfidfVectorizer)\n",
    "from sklearn.decomposition import PCA\n",
    "from sklearn.manifold import TSNE\n",
    "pd.set_option('display.max_rows', 500)"
   ]
  },
  {
   "cell_type": "markdown",
   "id": "38edd31d",
   "metadata": {},
   "source": [
    "**Задача**:\n",
    "1. Разделить активную базу на кластеры и описать их\n",
    "\n",
    "**Что хочу исследовать**:\n",
    "1. Разные алгоритмы кластеризации\n",
    "2. Разные способы векторизации\n",
    "3. Разные метрики эффективности кластеризации\n",
    "4. PCA и t-SNE: методики снижения размерности исходных данных"
   ]
  },
  {
   "cell_type": "markdown",
   "id": "77aef04f",
   "metadata": {},
   "source": [
    "### Препроцессим данные"
   ]
  },
  {
   "cell_type": "code",
   "execution_count": 217,
   "id": "4a5f2d0d",
   "metadata": {},
   "outputs": [
    {
     "data": {
      "text/html": [
       "<div>\n",
       "<style scoped>\n",
       "    .dataframe tbody tr th:only-of-type {\n",
       "        vertical-align: middle;\n",
       "    }\n",
       "\n",
       "    .dataframe tbody tr th {\n",
       "        vertical-align: top;\n",
       "    }\n",
       "\n",
       "    .dataframe thead th {\n",
       "        text-align: right;\n",
       "    }\n",
       "</style>\n",
       "<table border=\"1\" class=\"dataframe\">\n",
       "  <thead>\n",
       "    <tr style=\"text-align: right;\">\n",
       "      <th></th>\n",
       "      <th>event_timestamp</th>\n",
       "      <th>current_path</th>\n",
       "      <th>next_path</th>\n",
       "      <th>user_id</th>\n",
       "      <th>browser</th>\n",
       "      <th>os</th>\n",
       "      <th>session</th>\n",
       "      <th>mapped_event</th>\n",
       "      <th>utm_source</th>\n",
       "      <th>utm_medium</th>\n",
       "    </tr>\n",
       "  </thead>\n",
       "  <tbody>\n",
       "    <tr>\n",
       "      <th>0</th>\n",
       "      <td>2020-07-07 14:55:07</td>\n",
       "      <td>/catalog/phone/225/apple/iphone-6s-plus/6s-plu...</td>\n",
       "      <td>NaN</td>\n",
       "      <td>000019de-e3c2-4af0-8e0c-979b0d5b63cd</td>\n",
       "      <td>Chrome</td>\n",
       "      <td>Windows</td>\n",
       "      <td>0.0</td>\n",
       "      <td>session_start</td>\n",
       "      <td>NaN</td>\n",
       "      <td>NaN</td>\n",
       "    </tr>\n",
       "    <tr>\n",
       "      <th>1</th>\n",
       "      <td>2020-07-07 14:55:08</td>\n",
       "      <td>/catalog/phone/225/apple/iphone-6s-plus/6s-plu...</td>\n",
       "      <td>NaN</td>\n",
       "      <td>000019de-e3c2-4af0-8e0c-979b0d5b63cd</td>\n",
       "      <td>Chrome</td>\n",
       "      <td>Windows</td>\n",
       "      <td>0.0</td>\n",
       "      <td>catalog_page</td>\n",
       "      <td>NaN</td>\n",
       "      <td>NaN</td>\n",
       "    </tr>\n",
       "    <tr>\n",
       "      <th>2</th>\n",
       "      <td>2020-07-07 14:55:09</td>\n",
       "      <td>/catalog/phone/225/apple/iphone-6s-plus/6s-plu...</td>\n",
       "      <td>NaN</td>\n",
       "      <td>000019de-e3c2-4af0-8e0c-979b0d5b63cd</td>\n",
       "      <td>Chrome</td>\n",
       "      <td>Windows</td>\n",
       "      <td>0.0</td>\n",
       "      <td>lost</td>\n",
       "      <td>NaN</td>\n",
       "      <td>NaN</td>\n",
       "    </tr>\n",
       "    <tr>\n",
       "      <th>3</th>\n",
       "      <td>2020-06-20 17:13:51</td>\n",
       "      <td>/catalog/other/10691/5391503</td>\n",
       "      <td>NaN</td>\n",
       "      <td>00009a1c-69ad-4bbf-81e0-75dad05075b5</td>\n",
       "      <td>Mobile Safari</td>\n",
       "      <td>iOS</td>\n",
       "      <td>1.0</td>\n",
       "      <td>session_start</td>\n",
       "      <td>NaN</td>\n",
       "      <td>NaN</td>\n",
       "    </tr>\n",
       "    <tr>\n",
       "      <th>4</th>\n",
       "      <td>2020-06-20 17:13:52</td>\n",
       "      <td>/catalog/other/10691/5391503</td>\n",
       "      <td>NaN</td>\n",
       "      <td>00009a1c-69ad-4bbf-81e0-75dad05075b5</td>\n",
       "      <td>Mobile Safari</td>\n",
       "      <td>iOS</td>\n",
       "      <td>1.0</td>\n",
       "      <td>OpenProductPage</td>\n",
       "      <td>NaN</td>\n",
       "      <td>NaN</td>\n",
       "    </tr>\n",
       "  </tbody>\n",
       "</table>\n",
       "</div>"
      ],
      "text/plain": [
       "       event_timestamp                                       current_path  \\\n",
       "0  2020-07-07 14:55:07  /catalog/phone/225/apple/iphone-6s-plus/6s-plu...   \n",
       "1  2020-07-07 14:55:08  /catalog/phone/225/apple/iphone-6s-plus/6s-plu...   \n",
       "2  2020-07-07 14:55:09  /catalog/phone/225/apple/iphone-6s-plus/6s-plu...   \n",
       "3  2020-06-20 17:13:51                       /catalog/other/10691/5391503   \n",
       "4  2020-06-20 17:13:52                       /catalog/other/10691/5391503   \n",
       "\n",
       "  next_path                               user_id        browser       os  \\\n",
       "0       NaN  000019de-e3c2-4af0-8e0c-979b0d5b63cd         Chrome  Windows   \n",
       "1       NaN  000019de-e3c2-4af0-8e0c-979b0d5b63cd         Chrome  Windows   \n",
       "2       NaN  000019de-e3c2-4af0-8e0c-979b0d5b63cd         Chrome  Windows   \n",
       "3       NaN  00009a1c-69ad-4bbf-81e0-75dad05075b5  Mobile Safari      iOS   \n",
       "4       NaN  00009a1c-69ad-4bbf-81e0-75dad05075b5  Mobile Safari      iOS   \n",
       "\n",
       "   session     mapped_event utm_source utm_medium  \n",
       "0      0.0    session_start        NaN        NaN  \n",
       "1      0.0     catalog_page        NaN        NaN  \n",
       "2      0.0             lost        NaN        NaN  \n",
       "3      1.0    session_start        NaN        NaN  \n",
       "4      1.0  OpenProductPage        NaN        NaN  "
      ]
     },
     "execution_count": 217,
     "metadata": {},
     "output_type": "execute_result"
    }
   ],
   "source": [
    "df = pd.read_csv('../resources/test.csv').drop_duplicates()\n",
    "df.head()"
   ]
  },
  {
   "cell_type": "code",
   "execution_count": 218,
   "id": "ee8ad375",
   "metadata": {},
   "outputs": [],
   "source": [
    "df['session'] = df['session'].combine_first(df.groupby('user_id').session.shift(1))\n",
    "df['session'] = df['session'].combine_first(df.groupby('user_id').session.shift(1))"
   ]
  },
  {
   "cell_type": "markdown",
   "id": "c174ef31",
   "metadata": {},
   "source": [
    "### Выберем события, по которым будем делать эмбеддинг"
   ]
  },
  {
   "cell_type": "code",
   "execution_count": 226,
   "id": "4da4399c",
   "metadata": {},
   "outputs": [],
   "source": [
    "ts_df = df[['event_timestamp', 'user_id', 'session', 'mapped_event']].drop_duplicates()"
   ]
  },
  {
   "cell_type": "code",
   "execution_count": 227,
   "id": "cfb2ceca",
   "metadata": {},
   "outputs": [],
   "source": [
    "events_df = \\\n",
    "ts_df.groupby('mapped_event').\\\n",
    "agg({'session':'count'}).\\\n",
    "reset_index().\\\n",
    "sort_values(by='session', ascending=False)\n",
    "\n",
    "events_df['%'] = events_df['session'].cumsum() / events_df['session'].sum()"
   ]
  },
  {
   "cell_type": "markdown",
   "id": "687bbb5d",
   "metadata": {},
   "source": [
    "оценим частотность событий"
   ]
  },
  {
   "cell_type": "code",
   "execution_count": 228,
   "id": "6da46795",
   "metadata": {},
   "outputs": [
    {
     "data": {
      "text/plain": [
       "<BarContainer object of 72 artists>"
      ]
     },
     "execution_count": 228,
     "metadata": {},
     "output_type": "execute_result"
    },
    {
     "data": {
      "image/png": "[encoded data removed]",
      "text/plain": [
       "<Figure size 640x480 with 1 Axes>"
      ]
     },
     "metadata": {},
     "output_type": "display_data"
    }
   ],
   "source": [
    "plt.bar(data=events_df, x=events_df['mapped_event'], height=events_df['%'], color='c')"
   ]
  },
  {
   "cell_type": "code",
   "execution_count": 231,
   "id": "eba0a009",
   "metadata": {
    "scrolled": true
   },
   "outputs": [
    {
     "data": {
      "text/html": [
       "<div>\n",
       "<style scoped>\n",
       "    .dataframe tbody tr th:only-of-type {\n",
       "        vertical-align: middle;\n",
       "    }\n",
       "\n",
       "    .dataframe tbody tr th {\n",
       "        vertical-align: top;\n",
       "    }\n",
       "\n",
       "    .dataframe thead th {\n",
       "        text-align: right;\n",
       "    }\n",
       "</style>\n",
       "<table border=\"1\" class=\"dataframe\">\n",
       "  <thead>\n",
       "    <tr style=\"text-align: right;\">\n",
       "      <th></th>\n",
       "      <th>mapped_event</th>\n",
       "      <th>session</th>\n",
       "      <th>%</th>\n",
       "    </tr>\n",
       "  </thead>\n",
       "  <tbody>\n",
       "    <tr>\n",
       "      <th>36</th>\n",
       "      <td>catalog_page</td>\n",
       "      <td>791559</td>\n",
       "      <td>0.209071</td>\n",
       "    </tr>\n",
       "    <tr>\n",
       "      <th>18</th>\n",
       "      <td>OpenProductPage</td>\n",
       "      <td>523200</td>\n",
       "      <td>0.347262</td>\n",
       "    </tr>\n",
       "    <tr>\n",
       "      <th>67</th>\n",
       "      <td>session_start</td>\n",
       "      <td>448626</td>\n",
       "      <td>0.465755</td>\n",
       "    </tr>\n",
       "    <tr>\n",
       "      <th>49</th>\n",
       "      <td>lost</td>\n",
       "      <td>267575</td>\n",
       "      <td>0.536429</td>\n",
       "    </tr>\n",
       "    <tr>\n",
       "      <th>66</th>\n",
       "      <td>session_end</td>\n",
       "      <td>173341</td>\n",
       "      <td>0.582212</td>\n",
       "    </tr>\n",
       "    <tr>\n",
       "      <th>5</th>\n",
       "      <td>Click_Catalog_Filter</td>\n",
       "      <td>150223</td>\n",
       "      <td>0.621890</td>\n",
       "    </tr>\n",
       "    <tr>\n",
       "      <th>50</th>\n",
       "      <td>main_page</td>\n",
       "      <td>142028</td>\n",
       "      <td>0.659403</td>\n",
       "    </tr>\n",
       "    <tr>\n",
       "      <th>8</th>\n",
       "      <td>Click_Catalog_Tags</td>\n",
       "      <td>141674</td>\n",
       "      <td>0.696823</td>\n",
       "    </tr>\n",
       "    <tr>\n",
       "      <th>17</th>\n",
       "      <td>List_Slider</td>\n",
       "      <td>136849</td>\n",
       "      <td>0.732968</td>\n",
       "    </tr>\n",
       "    <tr>\n",
       "      <th>28</th>\n",
       "      <td>Open_ProductSpecs</td>\n",
       "      <td>118969</td>\n",
       "      <td>0.764391</td>\n",
       "    </tr>\n",
       "    <tr>\n",
       "      <th>35</th>\n",
       "      <td>cart_page</td>\n",
       "      <td>87228</td>\n",
       "      <td>0.787430</td>\n",
       "    </tr>\n",
       "    <tr>\n",
       "      <th>3</th>\n",
       "      <td>Click_Catalog_Category</td>\n",
       "      <td>66819</td>\n",
       "      <td>0.805079</td>\n",
       "    </tr>\n",
       "    <tr>\n",
       "      <th>61</th>\n",
       "      <td>search_result_page</td>\n",
       "      <td>59633</td>\n",
       "      <td>0.820830</td>\n",
       "    </tr>\n",
       "    <tr>\n",
       "      <th>24</th>\n",
       "      <td>Open_ProductComments</td>\n",
       "      <td>58990</td>\n",
       "      <td>0.836410</td>\n",
       "    </tr>\n",
       "    <tr>\n",
       "      <th>2</th>\n",
       "      <td>Click_Catalog_Breadcrumbs</td>\n",
       "      <td>49114</td>\n",
       "      <td>0.849383</td>\n",
       "    </tr>\n",
       "    <tr>\n",
       "      <th>0</th>\n",
       "      <td>AddTo_Cart</td>\n",
       "      <td>41480</td>\n",
       "      <td>0.860339</td>\n",
       "    </tr>\n",
       "    <tr>\n",
       "      <th>7</th>\n",
       "      <td>Click_Catalog_Mobile_Header</td>\n",
       "      <td>40885</td>\n",
       "      <td>0.871137</td>\n",
       "    </tr>\n",
       "    <tr>\n",
       "      <th>10</th>\n",
       "      <td>Click_Search</td>\n",
       "      <td>39077</td>\n",
       "      <td>0.881459</td>\n",
       "    </tr>\n",
       "    <tr>\n",
       "      <th>70</th>\n",
       "      <td>special_offers_page</td>\n",
       "      <td>38476</td>\n",
       "      <td>0.891621</td>\n",
       "    </tr>\n",
       "    <tr>\n",
       "      <th>6</th>\n",
       "      <td>Click_Catalog_Header_Wrap</td>\n",
       "      <td>36316</td>\n",
       "      <td>0.901213</td>\n",
       "    </tr>\n",
       "    <tr>\n",
       "      <th>14</th>\n",
       "      <td>GoTo_Cart</td>\n",
       "      <td>31513</td>\n",
       "      <td>0.909536</td>\n",
       "    </tr>\n",
       "    <tr>\n",
       "      <th>23</th>\n",
       "      <td>Open_ProductAvailability</td>\n",
       "      <td>30187</td>\n",
       "      <td>0.917510</td>\n",
       "    </tr>\n",
       "    <tr>\n",
       "      <th>44</th>\n",
       "      <td>go_to_step_2</td>\n",
       "      <td>27925</td>\n",
       "      <td>0.924885</td>\n",
       "    </tr>\n",
       "    <tr>\n",
       "      <th>25</th>\n",
       "      <td>Open_ProductCredit</td>\n",
       "      <td>26488</td>\n",
       "      <td>0.931881</td>\n",
       "    </tr>\n",
       "    <tr>\n",
       "      <th>41</th>\n",
       "      <td>delete_product</td>\n",
       "      <td>25514</td>\n",
       "      <td>0.938620</td>\n",
       "    </tr>\n",
       "    <tr>\n",
       "      <th>55</th>\n",
       "      <td>other_page</td>\n",
       "      <td>20723</td>\n",
       "      <td>0.944094</td>\n",
       "    </tr>\n",
       "    <tr>\n",
       "      <th>57</th>\n",
       "      <td>payments_type_installment</td>\n",
       "      <td>15770</td>\n",
       "      <td>0.948259</td>\n",
       "    </tr>\n",
       "    <tr>\n",
       "      <th>16</th>\n",
       "      <td>GoTo_ProductComments</td>\n",
       "      <td>14146</td>\n",
       "      <td>0.951995</td>\n",
       "    </tr>\n",
       "    <tr>\n",
       "      <th>46</th>\n",
       "      <td>go_to_step_4</td>\n",
       "      <td>13704</td>\n",
       "      <td>0.955615</td>\n",
       "    </tr>\n",
       "    <tr>\n",
       "      <th>4</th>\n",
       "      <td>Click_Catalog_Compilation</td>\n",
       "      <td>13487</td>\n",
       "      <td>0.959177</td>\n",
       "    </tr>\n",
       "  </tbody>\n",
       "</table>\n",
       "</div>"
      ],
      "text/plain": [
       "                   mapped_event  session         %\n",
       "36                 catalog_page   791559  0.209071\n",
       "18              OpenProductPage   523200  0.347262\n",
       "67                session_start   448626  0.465755\n",
       "49                         lost   267575  0.536429\n",
       "66                  session_end   173341  0.582212\n",
       "5          Click_Catalog_Filter   150223  0.621890\n",
       "50                    main_page   142028  0.659403\n",
       "8            Click_Catalog_Tags   141674  0.696823\n",
       "17                  List_Slider   136849  0.732968\n",
       "28            Open_ProductSpecs   118969  0.764391\n",
       "35                    cart_page    87228  0.787430\n",
       "3        Click_Catalog_Category    66819  0.805079\n",
       "61           search_result_page    59633  0.820830\n",
       "24         Open_ProductComments    58990  0.836410\n",
       "2     Click_Catalog_Breadcrumbs    49114  0.849383\n",
       "0                    AddTo_Cart    41480  0.860339\n",
       "7   Click_Catalog_Mobile_Header    40885  0.871137\n",
       "10                 Click_Search    39077  0.881459\n",
       "70          special_offers_page    38476  0.891621\n",
       "6     Click_Catalog_Header_Wrap    36316  0.901213\n",
       "14                    GoTo_Cart    31513  0.909536\n",
       "23     Open_ProductAvailability    30187  0.917510\n",
       "44                 go_to_step_2    27925  0.924885\n",
       "25           Open_ProductCredit    26488  0.931881\n",
       "41               delete_product    25514  0.938620\n",
       "55                   other_page    20723  0.944094\n",
       "57    payments_type_installment    15770  0.948259\n",
       "16         GoTo_ProductComments    14146  0.951995\n",
       "46                 go_to_step_4    13704  0.955615\n",
       "4     Click_Catalog_Compilation    13487  0.959177"
      ]
     },
     "execution_count": 231,
     "metadata": {},
     "output_type": "execute_result"
    }
   ],
   "source": [
    "events_df.head(30)"
   ]
  },
  {
   "cell_type": "markdown",
   "id": "78d9d398",
   "metadata": {},
   "source": [
    "Возьмем самые частые события + те, которые являются важными с т.з. бизнеса - конвертации/ивенты в корзине"
   ]
  },
  {
   "cell_type": "code",
   "execution_count": 232,
   "id": "5dc6ec9a",
   "metadata": {},
   "outputs": [],
   "source": [
    "# события, которые считаем главными и которые хотим кластеризовать\n",
    "events_to_cluster = ['catalog_page'\n",
    " , 'OpenProductPage'\n",
    " , 'session_start'\n",
    " , 'lost'\n",
    " , 'session_end'\n",
    " , 'Click_Catalog_Filter'\n",
    " , 'main_page'\n",
    " , 'cart_page'\n",
    " , 'search_result_page'\n",
    " , 'AddTo_Cart'\n",
    " , 'GoTo_Cart'\n",
    " , 'pass']"
   ]
  },
  {
   "cell_type": "code",
   "execution_count": 233,
   "id": "7fa5d982",
   "metadata": {},
   "outputs": [],
   "source": [
    "ts_df = ts_df[ts_df['mapped_event'].isin(events_to_cluster)]"
   ]
  },
  {
   "cell_type": "code",
   "execution_count": 234,
   "id": "f3fed7b6",
   "metadata": {
    "scrolled": true
   },
   "outputs": [
    {
     "data": {
      "text/html": [
       "<div>\n",
       "<style scoped>\n",
       "    .dataframe tbody tr th:only-of-type {\n",
       "        vertical-align: middle;\n",
       "    }\n",
       "\n",
       "    .dataframe tbody tr th {\n",
       "        vertical-align: top;\n",
       "    }\n",
       "\n",
       "    .dataframe thead th {\n",
       "        text-align: right;\n",
       "    }\n",
       "</style>\n",
       "<table border=\"1\" class=\"dataframe\">\n",
       "  <thead>\n",
       "    <tr style=\"text-align: right;\">\n",
       "      <th></th>\n",
       "      <th>event_timestamp</th>\n",
       "      <th>user_id</th>\n",
       "      <th>session</th>\n",
       "      <th>mapped_event</th>\n",
       "    </tr>\n",
       "  </thead>\n",
       "  <tbody>\n",
       "    <tr>\n",
       "      <th>0</th>\n",
       "      <td>2020-07-07 14:55:07</td>\n",
       "      <td>000019de-e3c2-4af0-8e0c-979b0d5b63cd</td>\n",
       "      <td>0.0</td>\n",
       "      <td>session_start</td>\n",
       "    </tr>\n",
       "    <tr>\n",
       "      <th>1</th>\n",
       "      <td>2020-07-07 14:55:08</td>\n",
       "      <td>000019de-e3c2-4af0-8e0c-979b0d5b63cd</td>\n",
       "      <td>0.0</td>\n",
       "      <td>catalog_page</td>\n",
       "    </tr>\n",
       "    <tr>\n",
       "      <th>2</th>\n",
       "      <td>2020-07-07 14:55:09</td>\n",
       "      <td>000019de-e3c2-4af0-8e0c-979b0d5b63cd</td>\n",
       "      <td>0.0</td>\n",
       "      <td>lost</td>\n",
       "    </tr>\n",
       "    <tr>\n",
       "      <th>3</th>\n",
       "      <td>2020-06-20 17:13:51</td>\n",
       "      <td>00009a1c-69ad-4bbf-81e0-75dad05075b5</td>\n",
       "      <td>1.0</td>\n",
       "      <td>session_start</td>\n",
       "    </tr>\n",
       "    <tr>\n",
       "      <th>4</th>\n",
       "      <td>2020-06-20 17:13:52</td>\n",
       "      <td>00009a1c-69ad-4bbf-81e0-75dad05075b5</td>\n",
       "      <td>1.0</td>\n",
       "      <td>OpenProductPage</td>\n",
       "    </tr>\n",
       "  </tbody>\n",
       "</table>\n",
       "</div>"
      ],
      "text/plain": [
       "       event_timestamp                               user_id  session  \\\n",
       "0  2020-07-07 14:55:07  000019de-e3c2-4af0-8e0c-979b0d5b63cd      0.0   \n",
       "1  2020-07-07 14:55:08  000019de-e3c2-4af0-8e0c-979b0d5b63cd      0.0   \n",
       "2  2020-07-07 14:55:09  000019de-e3c2-4af0-8e0c-979b0d5b63cd      0.0   \n",
       "3  2020-06-20 17:13:51  00009a1c-69ad-4bbf-81e0-75dad05075b5      1.0   \n",
       "4  2020-06-20 17:13:52  00009a1c-69ad-4bbf-81e0-75dad05075b5      1.0   \n",
       "\n",
       "      mapped_event  \n",
       "0    session_start  \n",
       "1     catalog_page  \n",
       "2             lost  \n",
       "3    session_start  \n",
       "4  OpenProductPage  "
      ]
     },
     "execution_count": 234,
     "metadata": {},
     "output_type": "execute_result"
    }
   ],
   "source": [
    "ts_df.head()"
   ]
  },
  {
   "cell_type": "markdown",
   "id": "c2601ce5",
   "metadata": {},
   "source": [
    "### Vectorizing"
   ]
  },
  {
   "cell_type": "code",
   "execution_count": 242,
   "id": "59b0757b",
   "metadata": {},
   "outputs": [
    {
     "data": {
      "text/html": [
       "<div>\n",
       "<style scoped>\n",
       "    .dataframe tbody tr th:only-of-type {\n",
       "        vertical-align: middle;\n",
       "    }\n",
       "\n",
       "    .dataframe tbody tr th {\n",
       "        vertical-align: top;\n",
       "    }\n",
       "\n",
       "    .dataframe thead th {\n",
       "        text-align: right;\n",
       "    }\n",
       "</style>\n",
       "<table border=\"1\" class=\"dataframe\">\n",
       "  <thead>\n",
       "    <tr style=\"text-align: right;\">\n",
       "      <th></th>\n",
       "      <th>user_id</th>\n",
       "      <th>mapped_event</th>\n",
       "      <th>session</th>\n",
       "    </tr>\n",
       "  </thead>\n",
       "  <tbody>\n",
       "    <tr>\n",
       "      <th>0</th>\n",
       "      <td>000019de-e3c2-4af0-8e0c-979b0d5b63cd</td>\n",
       "      <td>session_start,catalog_page,lost</td>\n",
       "      <td>1</td>\n",
       "    </tr>\n",
       "    <tr>\n",
       "      <th>1</th>\n",
       "      <td>00009a1c-69ad-4bbf-81e0-75dad05075b5</td>\n",
       "      <td>session_start,OpenProductPage,lost</td>\n",
       "      <td>1</td>\n",
       "    </tr>\n",
       "    <tr>\n",
       "      <th>2</th>\n",
       "      <td>0000ccf4-7a6d-4ec2-837c-0e7c01d92b04</td>\n",
       "      <td>session_start,catalog_page,session_end,session...</td>\n",
       "      <td>3</td>\n",
       "    </tr>\n",
       "    <tr>\n",
       "      <th>3</th>\n",
       "      <td>00010aae-fcc8-457a-847b-3fb5b9867243</td>\n",
       "      <td>session_start,catalog_page,lost</td>\n",
       "      <td>1</td>\n",
       "    </tr>\n",
       "    <tr>\n",
       "      <th>4</th>\n",
       "      <td>0001692d-845f-4256-8ca9-2987060dbf1c</td>\n",
       "      <td>session_start,main_page,catalog_page,OpenProdu...</td>\n",
       "      <td>1</td>\n",
       "    </tr>\n",
       "  </tbody>\n",
       "</table>\n",
       "</div>"
      ],
      "text/plain": [
       "                                user_id  \\\n",
       "0  000019de-e3c2-4af0-8e0c-979b0d5b63cd   \n",
       "1  00009a1c-69ad-4bbf-81e0-75dad05075b5   \n",
       "2  0000ccf4-7a6d-4ec2-837c-0e7c01d92b04   \n",
       "3  00010aae-fcc8-457a-847b-3fb5b9867243   \n",
       "4  0001692d-845f-4256-8ca9-2987060dbf1c   \n",
       "\n",
       "                                        mapped_event  session  \n",
       "0                    session_start,catalog_page,lost        1  \n",
       "1                 session_start,OpenProductPage,lost        1  \n",
       "2  session_start,catalog_page,session_end,session...        3  \n",
       "3                    session_start,catalog_page,lost        1  \n",
       "4  session_start,main_page,catalog_page,OpenProdu...        1  "
      ]
     },
     "execution_count": 242,
     "metadata": {},
     "output_type": "execute_result"
    }
   ],
   "source": [
    "# схлопываем все ивенты в последовательность\n",
    "chains_df = ts_df.groupby('user_id').\\\n",
    "agg({'mapped_event': lambda x: ','.join(x), 'session':'nunique'}).\\\n",
    "reset_index()\n",
    "\n",
    "chains_df.head()"
   ]
  },
  {
   "cell_type": "markdown",
   "id": "e328b3d2",
   "metadata": {},
   "source": [
    "#### CountVectorizing"
   ]
  },
  {
   "cell_type": "code",
   "execution_count": 264,
   "id": "bd3c795d",
   "metadata": {},
   "outputs": [],
   "source": [
    "cv = CountVectorizer(analyzer='word', ngram_range=(1,3))\n",
    "cv.fit(raw_documents=chains_df['mapped_event'])\n",
    "emb_cols = cv.get_feature_names()\n",
    "\n",
    "chains_df[emb_cols]=cv.transform(raw_documents=chains_df['mapped_event']).toarray()"
   ]
  },
  {
   "cell_type": "code",
   "execution_count": 165,
   "id": "f3725065",
   "metadata": {},
   "outputs": [],
   "source": [
    "#TODO: как-то заложить, что это разные сессии (или это учтено на уровне Count'а?)"
   ]
  },
  {
   "cell_type": "markdown",
   "id": "784ead5b",
   "metadata": {},
   "source": [
    "Признаков слишком много - попробуем сократить пространство и перейти в другой базис"
   ]
  },
  {
   "cell_type": "markdown",
   "id": "2ec80644",
   "metadata": {},
   "source": [
    "##### PCA"
   ]
  },
  {
   "cell_type": "code",
   "execution_count": 271,
   "id": "1546d6cd",
   "metadata": {},
   "outputs": [],
   "source": [
    "dimred = PCA(n_components=10).fit(chains_df[emb_cols])"
   ]
  },
  {
   "cell_type": "code",
   "execution_count": 282,
   "id": "a27ad019",
   "metadata": {},
   "outputs": [
    {
     "data": {
      "image/png": "[encoded data removed]",
      "text/plain": [
       "<Figure size 1000x700 with 1 Axes>"
      ]
     },
     "metadata": {},
     "output_type": "display_data"
    }
   ],
   "source": [
    "plt.figure(figsize=(10,7))\n",
    "plt.plot(np.cumsum(dimred.explained_variance_ratio_), color='k', lw=2)\n",
    "plt.xlabel('Number of components')\n",
    "plt.ylabel('Total explained variance')\n",
    "plt.xlim(0, 30)\n",
    "plt.yticks(np.arange(0, 1.1, 0.1))\n",
    "plt.axvline(4, c='b')\n",
    "plt.axhline(0.9, c='r')\n",
    "plt.show();"
   ]
  },
  {
   "cell_type": "markdown",
   "id": "643aa5b3",
   "metadata": {},
   "source": [
    "Оптимальная размерность - 4. Покрывает 90+% дисперсии"
   ]
  },
  {
   "cell_type": "code",
   "execution_count": null,
   "id": "19fc0574",
   "metadata": {},
   "outputs": [],
   "source": []
  }
 ],
 "metadata": {
  "kernelspec": {
   "display_name": "Python 3 (ipykernel)",
   "language": "python",
   "name": "python3"
  },
  "language_info": {
   "codemirror_mode": {
    "name": "ipython",
    "version": 3
   },
   "file_extension": ".py",
   "mimetype": "text/x-python",
   "name": "python",
   "nbconvert_exporter": "python",
   "pygments_lexer": "ipython3",
   "version": "3.9.12"
  },
  "toc": {
   "base_numbering": 1,
   "nav_menu": {},
   "number_sections": true,
   "sideBar": true,
   "skip_h1_title": false,
   "title_cell": "Table of Contents",
   "title_sidebar": "Contents",
   "toc_cell": false,
   "toc_position": {},
   "toc_section_display": true,
   "toc_window_display": false
  }
 },
 "nbformat": 4,
 "nbformat_minor": 5
}
